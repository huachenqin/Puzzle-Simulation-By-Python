{
 "cells": [
  {
   "cell_type": "code",
   "execution_count": 86,
   "metadata": {
    "collapsed": false
   },
   "outputs": [
    {
     "name": "stdout",
     "output_type": "stream",
     "text": [
      "Populating the interactive namespace from numpy and matplotlib\n"
     ]
    }
   ],
   "source": [
    "import numpy as np\n",
    "%pylab inline"
   ]
  },
  {
   "cell_type": "code",
   "execution_count": 87,
   "metadata": {
    "collapsed": false
   },
   "outputs": [],
   "source": [
    "def coinFlip(size):\n",
    "    counter_arr = np.array([])\n",
    "    for i in range(size):\n",
    "        toss_result = np.random.randint(0,2,size=2)\n",
    "        counter = 2\n",
    "        while True:\n",
    "            toss_result = np.append(toss_result,np.random.randint(0,2,size=1))\n",
    "            counter = counter + 1\n",
    "            if toss_result[counter-1] == 1 & toss_result[counter-2] == 1 & toss_result[counter-3] == 1:\n",
    "                counter_arr = np.append(counter_arr,counter)\n",
    "                break\n",
    "    return counter_arr"
   ]
  },
  {
   "cell_type": "code",
   "execution_count": 88,
   "metadata": {
    "collapsed": false
   },
   "outputs": [
    {
     "name": "stdout",
     "output_type": "stream",
     "text": [
      "If the eperiment times is: 10000\n",
      "the average flips is: 14.0667\n"
     ]
    }
   ],
   "source": [
    "experiment_times = 10000\n",
    "simulation = coinFlip(experiment_times)\n",
    "print(\"If the eperiment times is:\", experiment_times)\n",
    "print(\"the average flips is:\",np.mean(simulation))"
   ]
  },
  {
   "cell_type": "code",
   "execution_count": 89,
   "metadata": {
    "collapsed": false,
    "scrolled": true
   },
   "outputs": [
    {
     "data": {
      "image/png": "[encoded data removed]",
      "text/plain": [
       "<matplotlib.figure.Figure at 0xa16e9b0>"
      ]
     },
     "metadata": {},
     "output_type": "display_data"
    }
   ],
   "source": [
    "binwidth = 1\n",
    "plt.figure(figsize(12,6))\n",
    "plt.hist(simulation,bins=np.arange(min(simulation), max(simulation) + binwidth, binwidth))\n",
    "plt.show()"
   ]
  },
  {
   "cell_type": "code",
   "execution_count": null,
   "metadata": {
    "collapsed": false
   },
   "outputs": [],
   "source": []
  }
 ],
 "metadata": {
  "kernelspec": {
   "display_name": "Python [Root]",
   "language": "python",
   "name": "Python [Root]"
  },
  "language_info": {
   "codemirror_mode": {
    "name": "ipython",
    "version": 3
   },
   "file_extension": ".py",
   "mimetype": "text/x-python",
   "name": "python",
   "nbconvert_exporter": "python",
   "pygments_lexer": "ipython3",
   "version": "3.5.2"
  }
 },
 "nbformat": 4,
 "nbformat_minor": 0
}
